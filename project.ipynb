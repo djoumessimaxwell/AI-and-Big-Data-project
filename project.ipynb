{
 "cells": [
  {
   "cell_type": "markdown",
   "metadata": {},
   "source": [
    "https://www.analyticsvidhya.com/blog/2018/02/the-different-methods-deal-text-data-predictive-python/\n",
    "\n",
    "https://www.datacamp.com/community/tutorials/text-analytics-beginners-nltk\n",
    "\n",
    "https://www.machinelearningplus.com/nlp/lemmatization-examples-python/\n",
    "\n",
    "https://www.digitalocean.com/community/tutorials/how-to-perform-sentiment-analysis-in-python-3-using-the-natural-language-toolkit-nltk\n",
    "\n",
    "reference\n",
    "\n",
    "https://github.com/t-davidson/hate-speech-and-offensive-language/blob/master/classifier/classifier.py\n",
    "\n",
    "https://github.com/NakulLakhotia/Hate-Speech-Detection-in-Social-Media-using-Python/blob/master/final_customization.ipynb"
   ]
  },
  {
   "cell_type": "markdown",
   "metadata": {},
   "source": [
    "#  Python Django"
   ]
  },
  {
   "cell_type": "code",
   "execution_count": 1,
   "metadata": {},
   "outputs": [
    {
     "name": "stderr",
     "output_type": "stream",
     "text": [
      "[nltk_data] Downloading package punkt to /Users/ching/nltk_data...\n",
      "[nltk_data]   Package punkt is already up-to-date!\n",
      "[nltk_data] Downloading package stopwords to /Users/ching/nltk_data...\n",
      "[nltk_data]   Package stopwords is already up-to-date!\n",
      "[nltk_data] Downloading package wordnet to /Users/ching/nltk_data...\n",
      "[nltk_data]   Package wordnet is already up-to-date!\n",
      "[nltk_data] Downloading package averaged_perceptron_tagger to\n",
      "[nltk_data]     /Users/ching/nltk_data...\n",
      "[nltk_data]   Package averaged_perceptron_tagger is already up-to-\n",
      "[nltk_data]       date!\n"
     ]
    }
   ],
   "source": [
    "# !pip install Django\n",
    "import warnings \n",
    "warnings.filterwarnings(\"ignore\")\n",
    "import pandas as pd\n",
    "import numpy as np\n",
    "import nltk\n",
    "nltk.download('punkt')\n",
    "from nltk.tokenize import word_tokenize\n",
    "import string\n",
    "from nltk.corpus import stopwords\n",
    "nltk.download('stopwords')\n",
    "from nltk.stem import WordNetLemmatizer \n",
    "nltk.download('wordnet')\n",
    "nltk.download('averaged_perceptron_tagger')\n",
    "from nltk.corpus import wordnet\n",
    "from textblob import TextBlob\n",
    "from sklearn.model_selection import train_test_split\n",
    "from textstat.textstat import *\n",
    "from sklearn.feature_extraction.text import TfidfVectorizer\n",
    "from sklearn.metrics import classification_report\n",
    "from sklearn.metrics import accuracy_score\n",
    "from sklearn import tree\n",
    "from sklearn.linear_model import LogisticRegression\n",
    "from sklearn.neighbors import KNeighborsClassifier\n",
    "from sklearn.ensemble import RandomForestClassifier\n",
    "from sklearn.svm import LinearSVC\n",
    "from sklearn.naive_bayes import GaussianNB\n",
    "import matplotlib.pyplot as plt"
   ]
  },
  {
   "cell_type": "code",
   "execution_count": 2,
   "metadata": {},
   "outputs": [
    {
     "data": {
      "text/html": [
       "<div>\n",
       "<style scoped>\n",
       "    .dataframe tbody tr th:only-of-type {\n",
       "        vertical-align: middle;\n",
       "    }\n",
       "\n",
       "    .dataframe tbody tr th {\n",
       "        vertical-align: top;\n",
       "    }\n",
       "\n",
       "    .dataframe thead th {\n",
       "        text-align: right;\n",
       "    }\n",
       "</style>\n",
       "<table border=\"1\" class=\"dataframe\">\n",
       "  <thead>\n",
       "    <tr style=\"text-align: right;\">\n",
       "      <th></th>\n",
       "      <th>Unnamed: 0</th>\n",
       "      <th>count</th>\n",
       "      <th>hate_speech</th>\n",
       "      <th>offensive_language</th>\n",
       "      <th>neither</th>\n",
       "      <th>class</th>\n",
       "      <th>tweet</th>\n",
       "    </tr>\n",
       "  </thead>\n",
       "  <tbody>\n",
       "    <tr>\n",
       "      <th>0</th>\n",
       "      <td>0</td>\n",
       "      <td>3</td>\n",
       "      <td>0</td>\n",
       "      <td>0</td>\n",
       "      <td>3</td>\n",
       "      <td>2</td>\n",
       "      <td>!!! RT @mayasolovely: As a woman you shouldn't...</td>\n",
       "    </tr>\n",
       "    <tr>\n",
       "      <th>1</th>\n",
       "      <td>1</td>\n",
       "      <td>3</td>\n",
       "      <td>0</td>\n",
       "      <td>3</td>\n",
       "      <td>0</td>\n",
       "      <td>1</td>\n",
       "      <td>!!!!! RT @mleew17: boy dats cold...tyga dwn ba...</td>\n",
       "    </tr>\n",
       "    <tr>\n",
       "      <th>2</th>\n",
       "      <td>2</td>\n",
       "      <td>3</td>\n",
       "      <td>0</td>\n",
       "      <td>3</td>\n",
       "      <td>0</td>\n",
       "      <td>1</td>\n",
       "      <td>!!!!!!! RT @UrKindOfBrand Dawg!!!! RT @80sbaby...</td>\n",
       "    </tr>\n",
       "    <tr>\n",
       "      <th>3</th>\n",
       "      <td>3</td>\n",
       "      <td>3</td>\n",
       "      <td>0</td>\n",
       "      <td>2</td>\n",
       "      <td>1</td>\n",
       "      <td>1</td>\n",
       "      <td>!!!!!!!!! RT @C_G_Anderson: @viva_based she lo...</td>\n",
       "    </tr>\n",
       "    <tr>\n",
       "      <th>4</th>\n",
       "      <td>4</td>\n",
       "      <td>6</td>\n",
       "      <td>0</td>\n",
       "      <td>6</td>\n",
       "      <td>0</td>\n",
       "      <td>1</td>\n",
       "      <td>!!!!!!!!!!!!! RT @ShenikaRoberts: The shit you...</td>\n",
       "    </tr>\n",
       "  </tbody>\n",
       "</table>\n",
       "</div>"
      ],
      "text/plain": [
       "   Unnamed: 0  count  hate_speech  offensive_language  neither  class  \\\n",
       "0           0      3            0                   0        3      2   \n",
       "1           1      3            0                   3        0      1   \n",
       "2           2      3            0                   3        0      1   \n",
       "3           3      3            0                   2        1      1   \n",
       "4           4      6            0                   6        0      1   \n",
       "\n",
       "                                               tweet  \n",
       "0  !!! RT @mayasolovely: As a woman you shouldn't...  \n",
       "1  !!!!! RT @mleew17: boy dats cold...tyga dwn ba...  \n",
       "2  !!!!!!! RT @UrKindOfBrand Dawg!!!! RT @80sbaby...  \n",
       "3  !!!!!!!!! RT @C_G_Anderson: @viva_based she lo...  \n",
       "4  !!!!!!!!!!!!! RT @ShenikaRoberts: The shit you...  "
      ]
     },
     "execution_count": 2,
     "metadata": {},
     "output_type": "execute_result"
    }
   ],
   "source": [
    "# read dataset1 csv file\n",
    "\n",
    "data_tweet = pd.read_csv(\"/Users/ching/Desktop/Class/Data Project Management/AI and Big Data Project/Class 1/Dataset1_labeled_data.csv\", sep = \",\")\n",
    "\n",
    "data_tweet.head()"
   ]
  },
  {
   "cell_type": "code",
   "execution_count": 3,
   "metadata": {},
   "outputs": [
    {
     "name": "stdout",
     "output_type": "stream",
     "text": [
      "<class 'pandas.core.frame.DataFrame'>\n",
      "RangeIndex: 24783 entries, 0 to 24782\n",
      "Data columns (total 7 columns):\n",
      " #   Column              Non-Null Count  Dtype \n",
      "---  ------              --------------  ----- \n",
      " 0   Unnamed: 0          24783 non-null  int64 \n",
      " 1   count               24783 non-null  int64 \n",
      " 2   hate_speech         24783 non-null  int64 \n",
      " 3   offensive_language  24783 non-null  int64 \n",
      " 4   neither             24783 non-null  int64 \n",
      " 5   class               24783 non-null  int64 \n",
      " 6   tweet               24783 non-null  object\n",
      "dtypes: int64(6), object(1)\n",
      "memory usage: 1.3+ MB\n"
     ]
    }
   ],
   "source": [
    "# summary of the dataset\n",
    "\n",
    "data_tweet.info()"
   ]
  },
  {
   "cell_type": "code",
   "execution_count": 4,
   "metadata": {},
   "outputs": [
    {
     "data": {
      "text/plain": [
       "0        !!! rt @mayasolovely: as a woman you shouldn't...\n",
       "1        !!!!! rt @mleew17: boy dats cold...tyga dwn ba...\n",
       "2        !!!!!!! rt @urkindofbrand dawg!!!! rt @80sbaby...\n",
       "3        !!!!!!!!! rt @c_g_anderson: @viva_based she lo...\n",
       "4        !!!!!!!!!!!!! rt @shenikaroberts: the shit you...\n",
       "                               ...                        \n",
       "24778    you's a muthaf***in lie &#8220;@lifeasking: @2...\n",
       "24779    you've gone and broke the wrong heart baby, an...\n",
       "24780    young buck wanna eat!!.. dat nigguh like i ain...\n",
       "24781                youu got wild bitches tellin you lies\n",
       "24782    ~~ruffled | ntac eileen dahlia - beautiful col...\n",
       "Name: tweet, Length: 24783, dtype: object"
      ]
     },
     "execution_count": 4,
     "metadata": {},
     "output_type": "execute_result"
    }
   ],
   "source": [
    "# extract the tweet column, make all words to lowercase, and remove redundant space\n",
    "\n",
    "data_tweet_str = data_tweet['tweet'].apply(lambda x: ' '.join(x.lower().strip() for x in x.split()))\n",
    "data_tweet_str"
   ]
  },
  {
   "cell_type": "code",
   "execution_count": 5,
   "metadata": {},
   "outputs": [
    {
     "data": {
      "text/plain": [
       "0        !!! rt as a woman you shouldn't complain about...\n",
       "1        !!!!! rt boy dats cold...tyga dwn bad for cuff...\n",
       "2        !!!!!!! rt dawg!!!! rt you ever fuck a bitch a...\n",
       "3                      !!!!!!!!! rt she look like a tranny\n",
       "4        !!!!!!!!!!!!! rt the shit you hear about me mi...\n",
       "                               ...                        \n",
       "24778    you's a muthaf***in lie &#8220;@lifeasking: ri...\n",
       "24779    you've gone and broke the wrong heart baby, an...\n",
       "24780    young buck wanna eat!!.. dat nigguh like i ain...\n",
       "24781                youu got wild bitches tellin you lies\n",
       "24782    ~~ruffled | ntac eileen dahlia - beautiful col...\n",
       "Name: tweet, Length: 24783, dtype: object"
      ]
     },
     "execution_count": 5,
     "metadata": {},
     "output_type": "execute_result"
    }
   ],
   "source": [
    "# remove user names\n",
    "\n",
    "data_tweet_wo_user = data_tweet_str.apply(lambda x: \" \".join(x for x in x.split() if x[0] != '@'))\n",
    "data_tweet_wo_user"
   ]
  },
  {
   "cell_type": "code",
   "execution_count": 6,
   "metadata": {},
   "outputs": [
    {
     "data": {
      "text/plain": [
       "0         rt as a woman you shouldnt complain about cle...\n",
       "1         rt boy dats coldtyga dwn bad for cuffin dat h...\n",
       "2         rt dawg rt you ever fuck a bitch and she star...\n",
       "3                                rt she look like a tranny\n",
       "4         rt the shit you hear about me might be true o...\n",
       "                               ...                        \n",
       "24778    yous a muthafin lie 8220lifeasking right his t...\n",
       "24779    youve gone and broke the wrong heart baby and ...\n",
       "24780    young buck wanna eat dat nigguh like i aint fu...\n",
       "24781                youu got wild bitches tellin you lies\n",
       "24782    ruffled  ntac eileen dahlia  beautiful color c...\n",
       "Name: tweet, Length: 24783, dtype: object"
      ]
     },
     "execution_count": 6,
     "metadata": {},
     "output_type": "execute_result"
    }
   ],
   "source": [
    "# remove all punctuations\n",
    "\n",
    "data_tweet_str_wo_punc = data_tweet_wo_user.str.replace('[^\\w\\s]','')\n",
    "data_tweet_str_wo_punc"
   ]
  },
  {
   "cell_type": "code",
   "execution_count": 7,
   "metadata": {},
   "outputs": [
    {
     "data": {
      "text/plain": [
       "['i',\n",
       " 'me',\n",
       " 'my',\n",
       " 'myself',\n",
       " 'we',\n",
       " 'our',\n",
       " 'ours',\n",
       " 'ourselves',\n",
       " 'you',\n",
       " \"you're\",\n",
       " \"you've\",\n",
       " \"you'll\",\n",
       " \"you'd\",\n",
       " 'your',\n",
       " 'yours',\n",
       " 'yourself',\n",
       " 'yourselves',\n",
       " 'he',\n",
       " 'him',\n",
       " 'his',\n",
       " 'himself',\n",
       " 'she',\n",
       " \"she's\",\n",
       " 'her',\n",
       " 'hers',\n",
       " 'herself',\n",
       " 'it',\n",
       " \"it's\",\n",
       " 'its',\n",
       " 'itself',\n",
       " 'they',\n",
       " 'them',\n",
       " 'their',\n",
       " 'theirs',\n",
       " 'themselves',\n",
       " 'what',\n",
       " 'which',\n",
       " 'who',\n",
       " 'whom',\n",
       " 'this',\n",
       " 'that',\n",
       " \"that'll\",\n",
       " 'these',\n",
       " 'those',\n",
       " 'am',\n",
       " 'is',\n",
       " 'are',\n",
       " 'was',\n",
       " 'were',\n",
       " 'be',\n",
       " 'been',\n",
       " 'being',\n",
       " 'have',\n",
       " 'has',\n",
       " 'had',\n",
       " 'having',\n",
       " 'do',\n",
       " 'does',\n",
       " 'did',\n",
       " 'doing',\n",
       " 'a',\n",
       " 'an',\n",
       " 'the',\n",
       " 'and',\n",
       " 'but',\n",
       " 'if',\n",
       " 'or',\n",
       " 'because',\n",
       " 'as',\n",
       " 'until',\n",
       " 'while',\n",
       " 'of',\n",
       " 'at',\n",
       " 'by',\n",
       " 'for',\n",
       " 'with',\n",
       " 'about',\n",
       " 'against',\n",
       " 'between',\n",
       " 'into',\n",
       " 'through',\n",
       " 'during',\n",
       " 'before',\n",
       " 'after',\n",
       " 'above',\n",
       " 'below',\n",
       " 'to',\n",
       " 'from',\n",
       " 'up',\n",
       " 'down',\n",
       " 'in',\n",
       " 'out',\n",
       " 'on',\n",
       " 'off',\n",
       " 'over',\n",
       " 'under',\n",
       " 'again',\n",
       " 'further',\n",
       " 'then',\n",
       " 'once',\n",
       " 'here',\n",
       " 'there',\n",
       " 'when',\n",
       " 'where',\n",
       " 'why',\n",
       " 'how',\n",
       " 'all',\n",
       " 'any',\n",
       " 'both',\n",
       " 'each',\n",
       " 'few',\n",
       " 'more',\n",
       " 'most',\n",
       " 'other',\n",
       " 'some',\n",
       " 'such',\n",
       " 'no',\n",
       " 'nor',\n",
       " 'not',\n",
       " 'only',\n",
       " 'own',\n",
       " 'same',\n",
       " 'so',\n",
       " 'than',\n",
       " 'too',\n",
       " 'very',\n",
       " 's',\n",
       " 't',\n",
       " 'can',\n",
       " 'will',\n",
       " 'just',\n",
       " 'don',\n",
       " \"don't\",\n",
       " 'should',\n",
       " \"should've\",\n",
       " 'now',\n",
       " 'd',\n",
       " 'll',\n",
       " 'm',\n",
       " 'o',\n",
       " 're',\n",
       " 've',\n",
       " 'y',\n",
       " 'ain',\n",
       " 'aren',\n",
       " \"aren't\",\n",
       " 'couldn',\n",
       " \"couldn't\",\n",
       " 'didn',\n",
       " \"didn't\",\n",
       " 'doesn',\n",
       " \"doesn't\",\n",
       " 'hadn',\n",
       " \"hadn't\",\n",
       " 'hasn',\n",
       " \"hasn't\",\n",
       " 'haven',\n",
       " \"haven't\",\n",
       " 'isn',\n",
       " \"isn't\",\n",
       " 'ma',\n",
       " 'mightn',\n",
       " \"mightn't\",\n",
       " 'mustn',\n",
       " \"mustn't\",\n",
       " 'needn',\n",
       " \"needn't\",\n",
       " 'shan',\n",
       " \"shan't\",\n",
       " 'shouldn',\n",
       " \"shouldn't\",\n",
       " 'wasn',\n",
       " \"wasn't\",\n",
       " 'weren',\n",
       " \"weren't\",\n",
       " 'won',\n",
       " \"won't\",\n",
       " 'wouldn',\n",
       " \"wouldn't\"]"
      ]
     },
     "execution_count": 7,
     "metadata": {},
     "output_type": "execute_result"
    }
   ],
   "source": [
    "# call the stopword list\n",
    "\n",
    "stop = stopwords.words('english')\n",
    "stop"
   ]
  },
  {
   "cell_type": "code",
   "execution_count": 8,
   "metadata": {},
   "outputs": [
    {
     "data": {
      "text/plain": [
       "['i',\n",
       " 'me',\n",
       " 'my',\n",
       " 'myself',\n",
       " 'we',\n",
       " 'our',\n",
       " 'ours',\n",
       " 'ourselves',\n",
       " 'you',\n",
       " \"you're\",\n",
       " \"you've\",\n",
       " \"you'll\",\n",
       " \"you'd\",\n",
       " 'your',\n",
       " 'yours',\n",
       " 'yourself',\n",
       " 'yourselves',\n",
       " 'he',\n",
       " 'him',\n",
       " 'his',\n",
       " 'himself',\n",
       " 'she',\n",
       " \"she's\",\n",
       " 'her',\n",
       " 'hers',\n",
       " 'herself',\n",
       " 'it',\n",
       " \"it's\",\n",
       " 'its',\n",
       " 'itself',\n",
       " 'they',\n",
       " 'them',\n",
       " 'their',\n",
       " 'theirs',\n",
       " 'themselves',\n",
       " 'what',\n",
       " 'which',\n",
       " 'who',\n",
       " 'whom',\n",
       " 'this',\n",
       " 'that',\n",
       " \"that'll\",\n",
       " 'these',\n",
       " 'those',\n",
       " 'am',\n",
       " 'is',\n",
       " 'are',\n",
       " 'was',\n",
       " 'were',\n",
       " 'be',\n",
       " 'been',\n",
       " 'being',\n",
       " 'have',\n",
       " 'has',\n",
       " 'had',\n",
       " 'having',\n",
       " 'do',\n",
       " 'does',\n",
       " 'did',\n",
       " 'doing',\n",
       " 'a',\n",
       " 'an',\n",
       " 'the',\n",
       " 'and',\n",
       " 'but',\n",
       " 'if',\n",
       " 'or',\n",
       " 'because',\n",
       " 'as',\n",
       " 'until',\n",
       " 'while',\n",
       " 'of',\n",
       " 'at',\n",
       " 'by',\n",
       " 'for',\n",
       " 'with',\n",
       " 'about',\n",
       " 'against',\n",
       " 'between',\n",
       " 'into',\n",
       " 'through',\n",
       " 'during',\n",
       " 'before',\n",
       " 'after',\n",
       " 'above',\n",
       " 'below',\n",
       " 'to',\n",
       " 'from',\n",
       " 'up',\n",
       " 'down',\n",
       " 'in',\n",
       " 'out',\n",
       " 'on',\n",
       " 'off',\n",
       " 'over',\n",
       " 'under',\n",
       " 'again',\n",
       " 'further',\n",
       " 'then',\n",
       " 'once',\n",
       " 'here',\n",
       " 'there',\n",
       " 'when',\n",
       " 'where',\n",
       " 'why',\n",
       " 'how',\n",
       " 'all',\n",
       " 'any',\n",
       " 'both',\n",
       " 'each',\n",
       " 'few',\n",
       " 'more',\n",
       " 'most',\n",
       " 'other',\n",
       " 'some',\n",
       " 'such',\n",
       " 'no',\n",
       " 'nor',\n",
       " 'not',\n",
       " 'only',\n",
       " 'own',\n",
       " 'same',\n",
       " 'so',\n",
       " 'than',\n",
       " 'too',\n",
       " 'very',\n",
       " 's',\n",
       " 't',\n",
       " 'can',\n",
       " 'will',\n",
       " 'just',\n",
       " 'don',\n",
       " \"don't\",\n",
       " 'should',\n",
       " \"should've\",\n",
       " 'now',\n",
       " 'd',\n",
       " 'll',\n",
       " 'm',\n",
       " 'o',\n",
       " 're',\n",
       " 've',\n",
       " 'y',\n",
       " 'ain',\n",
       " 'aren',\n",
       " \"aren't\",\n",
       " 'couldn',\n",
       " \"couldn't\",\n",
       " 'didn',\n",
       " \"didn't\",\n",
       " 'doesn',\n",
       " \"doesn't\",\n",
       " 'hadn',\n",
       " \"hadn't\",\n",
       " 'hasn',\n",
       " \"hasn't\",\n",
       " 'haven',\n",
       " \"haven't\",\n",
       " 'isn',\n",
       " \"isn't\",\n",
       " 'ma',\n",
       " 'mightn',\n",
       " \"mightn't\",\n",
       " 'mustn',\n",
       " \"mustn't\",\n",
       " 'needn',\n",
       " \"needn't\",\n",
       " 'shan',\n",
       " \"shan't\",\n",
       " 'shouldn',\n",
       " \"shouldn't\",\n",
       " 'wasn',\n",
       " \"wasn't\",\n",
       " 'weren',\n",
       " \"weren't\",\n",
       " 'won',\n",
       " \"won't\",\n",
       " 'wouldn',\n",
       " \"wouldn't\",\n",
       " 'english',\n",
       " 'aint',\n",
       " 'rt',\n",
       " 'shouldnt',\n",
       " 'ya',\n",
       " 'yea',\n",
       " 'another',\n",
       " 'yo',\n",
       " 'us',\n",
       " 'cant',\n",
       " 'im',\n",
       " 'yeah',\n",
       " 'doesnt',\n",
       " 'tweets',\n",
       " 'tweet',\n",
       " 'lmao',\n",
       " 'Lmao',\n",
       " 'LMAO',\n",
       " 'u',\n",
       " 'dont',\n",
       " 'lol',\n",
       " 'amp',\n",
       " 'thats',\n",
       " 'youre',\n",
       " 'wont',\n",
       " 'would']"
      ]
     },
     "execution_count": 8,
     "metadata": {},
     "output_type": "execute_result"
    }
   ],
   "source": [
    "# self-define a stopword list \n",
    "\n",
    "more_stopwords = [\"english\", \"aint\", \"rt\", 'shouldnt', 'ya', 'yea', 'another', 'yo', 'us', 'cant', 'im', 'yeah', \\\n",
    "                  'doesnt', 'tweets', 'tweet', 'lmao', 'Lmao', 'LMAO', 'u', 'dont', 'lol', 'amp', 'thats', 'youre', \\\n",
    "                  'wont', 'would']\n",
    "\n",
    "# combine the two stopword lists together\n",
    "\n",
    "for i in range(len(more_stopwords)):\n",
    "    stop.append(more_stopwords[i])\n",
    "\n",
    "stop"
   ]
  },
  {
   "cell_type": "code",
   "execution_count": 9,
   "metadata": {},
   "outputs": [
    {
     "data": {
      "text/plain": [
       "0        woman complain cleaning house man always take ...\n",
       "1        boy dats coldtyga dwn bad cuffin dat hoe 1st p...\n",
       "2             dawg ever fuck bitch start cry confused shit\n",
       "3                                         look like tranny\n",
       "4        shit hear might true might faker bitch told 57361\n",
       "                               ...                        \n",
       "24778    yous muthafin lie 8220lifeasking right tl tras...\n",
       "24779    youve gone broke wrong heart baby drove rednec...\n",
       "24780      young buck wanna eat dat nigguh like fuckin dis\n",
       "24781                    youu got wild bitches tellin lies\n",
       "24782    ruffled ntac eileen dahlia beautiful color com...\n",
       "Name: tweet, Length: 24783, dtype: object"
      ]
     },
     "execution_count": 9,
     "metadata": {},
     "output_type": "execute_result"
    }
   ],
   "source": [
    "# remove stopwords\n",
    "\n",
    "data_tweet_str_wo_punc_wo_stop = data_tweet_str_wo_punc.apply(lambda x: \" \".join(x for x in x.split() if x not in stop))\n",
    "data_tweet_str_wo_punc_wo_stop"
   ]
  },
  {
   "cell_type": "code",
   "execution_count": 10,
   "metadata": {},
   "outputs": [
    {
     "data": {
      "text/plain": [
       "0        woman complain cleaning house man always take ...\n",
       "1        boy dats coldtyga dwn bad cuffin dat hoe 1st p...\n",
       "2             dawg ever fuck bitch start cry confused shit\n",
       "3                                         look like tranny\n",
       "4        shit hear might true might faker bitch told 57361\n",
       "                               ...                        \n",
       "24778    yous muthafin lie 8220lifeasking right tl tras...\n",
       "24779    youve gone broke wrong heart baby drove rednec...\n",
       "24780      young buck wanna eat dat nigguh like fuckin dis\n",
       "24781                    youu got wild bitches tellin lies\n",
       "24782    ruffled ntac eileen dahlia beautiful color com...\n",
       "Name: tweet, Length: 24783, dtype: object"
      ]
     },
     "execution_count": 10,
     "metadata": {},
     "output_type": "execute_result"
    }
   ],
   "source": [
    "# remove web address\n",
    "\n",
    "data_tweet_str_wo_punc_wo_stop_wo_http = data_tweet_str_wo_punc_wo_stop.apply(lambda x: \" \".join(x for x in x.split() \\\n",
    "                                                                                                 if x[0:4] != 'http'))\n",
    "data_tweet_str_wo_punc_wo_stop_wo_http"
   ]
  },
  {
   "cell_type": "code",
   "execution_count": 11,
   "metadata": {},
   "outputs": [
    {
     "data": {
      "text/plain": [
       "0        woman complain cleaning house man always take ...\n",
       "1           boy dats coldtyga dwn bad cuffin dat hoe place\n",
       "2             dawg ever fuck bitch start cry confused shit\n",
       "3                                         look like tranny\n",
       "4              shit hear might true might faker bitch told\n",
       "                               ...                        \n",
       "24778    yous muthafin lie right tl trash mine bible sc...\n",
       "24779    youve gone broke wrong heart baby drove rednec...\n",
       "24780      young buck wanna eat dat nigguh like fuckin dis\n",
       "24781                    youu got wild bitches tellin lies\n",
       "24782    ruffled ntac eileen dahlia beautiful color com...\n",
       "Name: tweet, Length: 24783, dtype: object"
      ]
     },
     "execution_count": 11,
     "metadata": {},
     "output_type": "execute_result"
    }
   ],
   "source": [
    "# remove numbers and words starting with numbers\n",
    "\n",
    "number = ['1', '2', '3', '4', '5', '6', '7', '8', '9', '0']\n",
    "\n",
    "data_tweet_str_wo_punc_wo_stop_wo_http_wo_no = data_tweet_str_wo_punc_wo_stop_wo_http\\\n",
    "                                                .apply(lambda x: \" \".join(x for x in x.split() \\\n",
    "                                                if x[0] not in number))\n",
    "data_tweet_str_wo_punc_wo_stop_wo_http_wo_no"
   ]
  },
  {
   "cell_type": "code",
   "execution_count": 12,
   "metadata": {},
   "outputs": [
    {
     "name": "stdout",
     "output_type": "stream",
     "text": [
      "got bitch tip toeing hardwood floors 128514 httptcocou2wq5l4q\n",
      "got bitch tip toeing hardwood floors 128514\n",
      "got bitch tip toeing hardwood floors \n",
      "\n",
      "yous muthafin lie 8220lifeasking right tl trash 8230 mine bible scriptures hymns8221\n",
      "yous muthafin lie right tl trash mine bible scriptures hymns8221\n"
     ]
    }
   ],
   "source": [
    "# check data cleaning results\n",
    "\n",
    "check1 = 24\n",
    "check2 = 24778\n",
    "\n",
    "print(data_tweet_str_wo_punc_wo_stop[check1])\n",
    "\n",
    "print(data_tweet_str_wo_punc_wo_stop_wo_http[check1])\n",
    "\n",
    "print(data_tweet_str_wo_punc_wo_stop_wo_http_wo_no[check1], '\\n')\n",
    "\n",
    "print(data_tweet_str_wo_punc_wo_stop[check2])\n",
    "\n",
    "print(data_tweet_str_wo_punc_wo_stop_wo_http_wo_no[check2])"
   ]
  },
  {
   "cell_type": "code",
   "execution_count": 13,
   "metadata": {},
   "outputs": [
    {
     "data": {
      "text/plain": [
       "0        woman complain cleaning house man always take ...\n",
       "1            boy dat coldtyga dwn bad cuffin dat hoe place\n",
       "2             dawg ever fuck bitch start cry confused shit\n",
       "3                                         look like tranny\n",
       "4              shit hear might true might faker bitch told\n",
       "                               ...                        \n",
       "24778    yous muthafin lie right tl trash mine bible sc...\n",
       "24779    youve gone broke wrong heart baby drove rednec...\n",
       "24780      young buck wanna eat dat nigguh like fuckin dis\n",
       "24781                       youu got wild bitch tellin lie\n",
       "24782    ruffled ntac eileen dahlia beautiful color com...\n",
       "Name: tweet, Length: 24783, dtype: object"
      ]
     },
     "execution_count": 13,
     "metadata": {},
     "output_type": "execute_result"
    }
   ],
   "source": [
    "# lemmatization\n",
    "\n",
    "lemmatizer = WordNetLemmatizer() \n",
    "\n",
    "lemmatization = data_tweet_str_wo_punc_wo_stop_wo_http_wo_no\\\n",
    "                .apply(lambda x: ' '.join([lemmatizer.lemmatize(word) for word in x.split()]))\n",
    "lemmatization"
   ]
  },
  {
   "cell_type": "code",
   "execution_count": 14,
   "metadata": {},
   "outputs": [
    {
     "data": {
      "text/plain": [
       "0        [woman, complain, cleaning, house, man, always...\n",
       "1        [boy, dat, coldtyga, dwn, bad, cuffin, dat, ho...\n",
       "2        [dawg, ever, fuck, bitch, start, cry, confused...\n",
       "3                                     [look, like, tranny]\n",
       "4        [shit, hear, might, true, might, faker, bitch,...\n",
       "                               ...                        \n",
       "24778    [yous, muthafin, lie, right, tl, trash, mine, ...\n",
       "24779    [youve, gone, broke, wrong, heart, baby, drove...\n",
       "24780    [young, buck, wan, na, eat, dat, nigguh, like,...\n",
       "24781                [youu, got, wild, bitch, tellin, lie]\n",
       "24782    [ruffled, ntac, eileen, dahlia, beautiful, col...\n",
       "Name: tweet, Length: 24783, dtype: object"
      ]
     },
     "execution_count": 14,
     "metadata": {},
     "output_type": "execute_result"
    }
   ],
   "source": [
    "# tokenization\n",
    "\n",
    "tokens = lemmatization.apply(lambda x: word_tokenize(str(x)))\n",
    "tokens"
   ]
  },
  {
   "cell_type": "code",
   "execution_count": 15,
   "metadata": {},
   "outputs": [
    {
     "name": "stdout",
     "output_type": "stream",
     "text": [
      "woman complain cleaning house man always take trash \n",
      "\n",
      "['woman', 'complain', 'cleaning', 'house', 'man', 'always', 'take', 'trash']\n"
     ]
    }
   ],
   "source": [
    "# check results of tokenization\n",
    "\n",
    "print(lemmatization[0], '\\n')\n",
    "print(tokens[0])"
   ]
  },
  {
   "cell_type": "code",
   "execution_count": 16,
   "metadata": {},
   "outputs": [
    {
     "name": "stdout",
     "output_type": "stream",
     "text": [
      "                                               tweet  \\\n",
      "0  !!! RT @mayasolovely: As a woman you shouldn't...   \n",
      "1  !!!!! RT @mleew17: boy dats cold...tyga dwn ba...   \n",
      "2  !!!!!!! RT @UrKindOfBrand Dawg!!!! RT @80sbaby...   \n",
      "3  !!!!!!!!! RT @C_G_Anderson: @viva_based she lo...   \n",
      "4  !!!!!!!!!!!!! RT @ShenikaRoberts: The shit you...   \n",
      "5  !!!!!!!!!!!!!!!!!!\"@T_Madison_x: The shit just...   \n",
      "6  !!!!!!\"@__BrighterDays: I can not just sit up ...   \n",
      "7  !!!!&#8220;@selfiequeenbri: cause I'm tired of...   \n",
      "8  \" &amp; you might not get ya bitch back &amp; ...   \n",
      "9  \" @rhythmixx_ :hobbies include: fighting Maria...   \n",
      "\n",
      "                                        clean_tweets  \n",
      "0  woman complain cleaning house man always take ...  \n",
      "1      boy dat coldtyga dwn bad cuffin dat hoe place  \n",
      "2       dawg ever fuck bitch start cry confused shit  \n",
      "3                                   look like tranny  \n",
      "4        shit hear might true might faker bitch told  \n",
      "5  t_madison_x shit blow meclaim faithful somebod...  \n",
      "6  __brighterdays sit hate bitch got much shit going  \n",
      "7      cause tired big bitch coming skinny girls8221  \n",
      "8                               might get bitch back  \n",
      "9                hobby include fighting mariam bitch  \n"
     ]
    }
   ],
   "source": [
    "# combine clean tweets with original dataset\n",
    "\n",
    "data_tweet['clean_tweets'] = lemmatization\n",
    "print(data_tweet[['tweet', 'clean_tweets']].head(10))"
   ]
  },
  {
   "cell_type": "code",
   "execution_count": 17,
   "metadata": {},
   "outputs": [
    {
     "data": {
      "text/plain": [
       "bitch    11170\n",
       "hoe       4195\n",
       "like      2807\n",
       "pussy     2179\n",
       "nigga     1979\n",
       "as        1562\n",
       "get       1534\n",
       "fuck      1439\n",
       "got       1289\n",
       "shit      1265\n",
       "dtype: int64"
      ]
     },
     "execution_count": 17,
     "metadata": {},
     "output_type": "execute_result"
    }
   ],
   "source": [
    "# most frequent words\n",
    "\n",
    "freq = pd.Series(' '.join(lemmatization).split()).value_counts()[:10]\n",
    "freq"
   ]
  },
  {
   "cell_type": "code",
   "execution_count": 18,
   "metadata": {},
   "outputs": [
    {
     "data": {
      "image/png": "[encoded data removed]",
      "text/plain": [
       "<Figure size 720x504 with 1 Axes>"
      ]
     },
     "metadata": {
      "needs_background": "light"
     },
     "output_type": "display_data"
    }
   ],
   "source": [
    "# visualize most frequent words in all tweets\n",
    "\n",
    "from wordcloud import WordCloud\n",
    "\n",
    "all_words = ' '.join([text for text in data_tweet['clean_tweets'] ])\n",
    "wordcloud = WordCloud(width = 800, height = 500).generate(all_words)\n",
    "plt.figure(figsize = (10, 7))\n",
    "plt.imshow(wordcloud, interpolation = \"bilinear\")\n",
    "plt.axis('off')\n",
    "plt.show()"
   ]
  },
  {
   "cell_type": "code",
   "execution_count": 19,
   "metadata": {},
   "outputs": [
    {
     "data": {
      "text/plain": [
       "-0.06493506493506492"
      ]
     },
     "execution_count": 19,
     "metadata": {},
     "output_type": "execute_result"
    }
   ],
   "source": [
    "# overall tweet sentiment\n",
    "\n",
    "overall_sentiment = TextBlob(str(lemmatization)).sentiment[0]\n",
    "overall_sentiment\n",
    "\n",
    "# 1: positive\n",
    "# -1: negative"
   ]
  },
  {
   "cell_type": "code",
   "execution_count": 20,
   "metadata": {},
   "outputs": [
    {
     "data": {
      "text/plain": [
       "<24783x10000 sparse matrix of type '<class 'numpy.float64'>'\n",
       "\twith 188100 stored elements in Compressed Sparse Row format>"
      ]
     },
     "execution_count": 20,
     "metadata": {},
     "output_type": "execute_result"
    }
   ],
   "source": [
    "# convert the tweets into statistical numbers\n",
    "\n",
    "vectorizer = TfidfVectorizer(ngram_range = (1, 4), max_features = 10000, use_idf = True)\n",
    "tfidf = vectorizer.fit_transform(lemmatization)\n",
    "tfidf"
   ]
  },
  {
   "cell_type": "code",
   "execution_count": 21,
   "metadata": {},
   "outputs": [],
   "source": [
    "# data split\n",
    "\n",
    "X = tfidf\n",
    "y = data_tweet['class'].astype(int)\n",
    "x_train_tfidf, x_test_tfidf, y_train, y_test = train_test_split(X, y, test_size = 0.3, random_state = 42)"
   ]
  },
  {
   "cell_type": "code",
   "execution_count": 22,
   "metadata": {},
   "outputs": [
    {
     "name": "stdout",
     "output_type": "stream",
     "text": [
      "              precision    recall  f1-score   support\n",
      "\n",
      "           0       0.55      0.19      0.28       427\n",
      "           1       0.92      0.96      0.94      5747\n",
      "           2       0.84      0.83      0.84      1261\n",
      "\n",
      "    accuracy                           0.90      7435\n",
      "   macro avg       0.77      0.66      0.69      7435\n",
      "weighted avg       0.88      0.90      0.88      7435\n",
      "\n",
      "Logistic Regression\n",
      "Accuracy:  0.8965702757229321\n"
     ]
    }
   ],
   "source": [
    "# Logistic Regression \n",
    "\n",
    "model_lr = LogisticRegression(C = 2, max_iter = 500).fit(x_train_tfidf, y_train)\n",
    "y_pred = model_lr.predict(x_test_tfidf)\n",
    "report_lr = classification_report(y_test, y_pred)\n",
    "\n",
    "print(report_lr)\n",
    "acc_lr = accuracy_score(y_test, y_pred)\n",
    "label_lr = \"Logistic Regression\"\n",
    "print(label_lr)\n",
    "print('Accuracy: ', acc_lr)"
   ]
  },
  {
   "cell_type": "code",
   "execution_count": 23,
   "metadata": {},
   "outputs": [
    {
     "name": "stdout",
     "output_type": "stream",
     "text": [
      "              precision    recall  f1-score   support\n",
      "\n",
      "           0       0.32      0.27      0.29       427\n",
      "           1       0.91      0.93      0.92      5747\n",
      "           2       0.83      0.78      0.80      1261\n",
      "\n",
      "    accuracy                           0.87      7435\n",
      "   macro avg       0.69      0.66      0.67      7435\n",
      "weighted avg       0.86      0.87      0.87      7435\n",
      "\n",
      "Decision Tree\n",
      "Accuracy:  0.8689979825151312\n"
     ]
    }
   ],
   "source": [
    "# Decision Tree\n",
    "\n",
    "model_dt = tree.DecisionTreeClassifier().fit(x_train_tfidf, y_train)\n",
    "y_pred = model_dt.predict(x_test_tfidf)\n",
    "report_dt = classification_report(y_test, y_pred)\n",
    "\n",
    "print(report_dt)\n",
    "acc_dt = accuracy_score(y_test, y_pred)\n",
    "label_dt = 'Decision Tree'\n",
    "print(label_dt)\n",
    "print('Accuracy: ', acc_dt)"
   ]
  },
  {
   "cell_type": "code",
   "execution_count": 24,
   "metadata": {},
   "outputs": [
    {
     "name": "stdout",
     "output_type": "stream",
     "text": [
      "              precision    recall  f1-score   support\n",
      "\n",
      "           0       0.40      0.18      0.24       427\n",
      "           1       0.81      0.97      0.88      5747\n",
      "           2       0.74      0.24      0.36      1261\n",
      "\n",
      "    accuracy                           0.80      7435\n",
      "   macro avg       0.65      0.46      0.50      7435\n",
      "weighted avg       0.78      0.80      0.76      7435\n",
      "\n",
      "K-nearest Neighbors\n",
      "Accuracy:  0.7966375252185609\n"
     ]
    }
   ],
   "source": [
    "# kNN\n",
    "\n",
    "model_knn = KNeighborsClassifier(n_neighbors = 3, weights = 'distance', p = 1).fit(x_train_tfidf, y_train)\n",
    "y_pred = model_knn.predict(x_test_tfidf)\n",
    "report_knn = classification_report(y_test, y_pred)\n",
    "\n",
    "print(report_knn)\n",
    "acc_knn = accuracy_score(y_test, y_pred)\n",
    "label_knn = 'K-nearest Neighbors'\n",
    "print(label_knn)\n",
    "print('Accuracy: ', acc_knn)"
   ]
  },
  {
   "cell_type": "code",
   "execution_count": 25,
   "metadata": {},
   "outputs": [
    {
     "name": "stdout",
     "output_type": "stream",
     "text": [
      "              precision    recall  f1-score   support\n",
      "\n",
      "           0       0.52      0.15      0.23       427\n",
      "           1       0.91      0.96      0.94      5747\n",
      "           2       0.84      0.83      0.83      1261\n",
      "\n",
      "    accuracy                           0.89      7435\n",
      "   macro avg       0.76      0.65      0.67      7435\n",
      "weighted avg       0.88      0.89      0.88      7435\n",
      "\n",
      "Random Forest\n",
      "Accuracy:  0.893207800941493\n"
     ]
    }
   ],
   "source": [
    "# Random Forest\n",
    "\n",
    "model_rf = RandomForestClassifier(n_estimators = 200).fit(x_train_tfidf, y_train)\n",
    "y_pred = model_rf.predict(x_test_tfidf)\n",
    "report_rf = classification_report(y_test, y_pred)\n",
    "\n",
    "print(report_rf)\n",
    "acc_rf = accuracy_score(y_test, y_pred)\n",
    "label_rf = 'Random Forest'\n",
    "print(label_rf)\n",
    "print('Accuracy: ', acc_rf)"
   ]
  },
  {
   "cell_type": "code",
   "execution_count": 26,
   "metadata": {},
   "outputs": [
    {
     "name": "stdout",
     "output_type": "stream",
     "text": [
      "              precision    recall  f1-score   support\n",
      "\n",
      "           0       0.45      0.22      0.30       427\n",
      "           1       0.92      0.95      0.93      5747\n",
      "           2       0.81      0.81      0.81      1261\n",
      "\n",
      "    accuracy                           0.89      7435\n",
      "   macro avg       0.73      0.66      0.68      7435\n",
      "weighted avg       0.87      0.89      0.88      7435\n",
      "\n",
      "SVM\n",
      "Accuracy:  0.8852723604572966\n"
     ]
    }
   ],
   "source": [
    "# SVM\n",
    "\n",
    "model_svm = LinearSVC().fit(x_train_tfidf, y_train)\n",
    "y_pred = model_svm.predict(x_test_tfidf)\n",
    "report_svm = classification_report(y_test, y_pred)\n",
    "\n",
    "print(report_svm)\n",
    "acc_svm = accuracy_score(y_test, y_pred)\n",
    "label_svm = 'SVM'\n",
    "print(label_svm)\n",
    "print('Accuracy: ', acc_svm)"
   ]
  },
  {
   "cell_type": "code",
   "execution_count": 27,
   "metadata": {},
   "outputs": [
    {
     "name": "stdout",
     "output_type": "stream",
     "text": [
      "              precision    recall  f1-score   support\n",
      "\n",
      "           0       0.11      0.32      0.16       427\n",
      "           1       0.88      0.75      0.81      5747\n",
      "           2       0.54      0.55      0.55      1261\n",
      "\n",
      "    accuracy                           0.69      7435\n",
      "   macro avg       0.51      0.54      0.50      7435\n",
      "weighted avg       0.78      0.69      0.73      7435\n",
      "\n",
      "Naive Bayes\n",
      "Accuracy:  0.6890383322125084\n"
     ]
    }
   ],
   "source": [
    "# Naive Bayes\n",
    "\n",
    "x_train_tfidf, x_test_tfidf, y_train, y_test = train_test_split(X.toarray(), y, random_state = 42, test_size = 0.3)\n",
    "model_nb = GaussianNB().fit(x_train_tfidf, y_train)\n",
    "y_pred = model_nb.predict(x_test_tfidf)\n",
    "report_nb = classification_report(y_test, y_pred)\n",
    "\n",
    "print(report_nb)\n",
    "acc_nb = accuracy_score(y_test, y_pred)\n",
    "label_nb = 'Naive Bayes'\n",
    "print(label_nb)\n",
    "print('Accuracy: ', acc_nb)"
   ]
  },
  {
   "cell_type": "code",
   "execution_count": 54,
   "metadata": {},
   "outputs": [
    {
     "data": {
      "text/html": [
       "<div>\n",
       "<style scoped>\n",
       "    .dataframe tbody tr th:only-of-type {\n",
       "        vertical-align: middle;\n",
       "    }\n",
       "\n",
       "    .dataframe tbody tr th {\n",
       "        vertical-align: top;\n",
       "    }\n",
       "\n",
       "    .dataframe thead th {\n",
       "        text-align: right;\n",
       "    }\n",
       "</style>\n",
       "<table border=\"1\" class=\"dataframe\">\n",
       "  <thead>\n",
       "    <tr style=\"text-align: right;\">\n",
       "      <th></th>\n",
       "      <th>Model</th>\n",
       "      <th>Accuracy</th>\n",
       "    </tr>\n",
       "  </thead>\n",
       "  <tbody>\n",
       "    <tr>\n",
       "      <th>0</th>\n",
       "      <td>Logistic Regression</td>\n",
       "      <td>0.896570</td>\n",
       "    </tr>\n",
       "    <tr>\n",
       "      <th>3</th>\n",
       "      <td>Random Forest</td>\n",
       "      <td>0.893208</td>\n",
       "    </tr>\n",
       "    <tr>\n",
       "      <th>4</th>\n",
       "      <td>SVM</td>\n",
       "      <td>0.885272</td>\n",
       "    </tr>\n",
       "    <tr>\n",
       "      <th>1</th>\n",
       "      <td>Decision Tree</td>\n",
       "      <td>0.868998</td>\n",
       "    </tr>\n",
       "    <tr>\n",
       "      <th>2</th>\n",
       "      <td>K-nearest Neighbors</td>\n",
       "      <td>0.796638</td>\n",
       "    </tr>\n",
       "    <tr>\n",
       "      <th>5</th>\n",
       "      <td>Naive Bayes</td>\n",
       "      <td>0.689038</td>\n",
       "    </tr>\n",
       "  </tbody>\n",
       "</table>\n",
       "</div>"
      ],
      "text/plain": [
       "                 Model  Accuracy\n",
       "0  Logistic Regression  0.896570\n",
       "3        Random Forest  0.893208\n",
       "4                  SVM  0.885272\n",
       "1        Decision Tree  0.868998\n",
       "2  K-nearest Neighbors  0.796638\n",
       "5          Naive Bayes  0.689038"
      ]
     },
     "metadata": {},
     "output_type": "display_data"
    },
    {
     "name": "stdout",
     "output_type": "stream",
     "text": [
      "The best model is Logistic Regression\n"
     ]
    }
   ],
   "source": [
    "# summary of modelling results\n",
    "\n",
    "d0 = pd.DataFrame([label_lr, label_dt, label_knn, label_rf, label_svm, label_nb])\n",
    "d1 = pd.DataFrame([acc_lr, acc_dt, acc_knn, acc_rf, acc_svm, acc_nb])\n",
    "d2 = pd.concat([d0, d1], axis = 1)\n",
    "d2.columns = ['Model', 'Accuracy']\n",
    "d2 = d2.sort_values(by = ['Accuracy'], ascending = False)\n",
    "\n",
    "display(d2)\n",
    "print('The best model is', d2.iloc[0, 0])"
   ]
  },
  {
   "cell_type": "code",
   "execution_count": null,
   "metadata": {},
   "outputs": [],
   "source": []
  },
  {
   "cell_type": "code",
   "execution_count": null,
   "metadata": {},
   "outputs": [],
   "source": []
  },
  {
   "cell_type": "code",
   "execution_count": null,
   "metadata": {},
   "outputs": [],
   "source": []
  },
  {
   "cell_type": "code",
   "execution_count": null,
   "metadata": {},
   "outputs": [],
   "source": []
  },
  {
   "cell_type": "code",
   "execution_count": null,
   "metadata": {},
   "outputs": [],
   "source": []
  },
  {
   "cell_type": "code",
   "execution_count": null,
   "metadata": {},
   "outputs": [],
   "source": []
  },
  {
   "cell_type": "code",
   "execution_count": null,
   "metadata": {},
   "outputs": [],
   "source": []
  },
  {
   "cell_type": "code",
   "execution_count": null,
   "metadata": {},
   "outputs": [],
   "source": []
  },
  {
   "cell_type": "code",
   "execution_count": null,
   "metadata": {},
   "outputs": [],
   "source": []
  },
  {
   "cell_type": "code",
   "execution_count": null,
   "metadata": {},
   "outputs": [],
   "source": []
  },
  {
   "cell_type": "code",
   "execution_count": null,
   "metadata": {},
   "outputs": [],
   "source": []
  },
  {
   "cell_type": "code",
   "execution_count": null,
   "metadata": {},
   "outputs": [],
   "source": []
  },
  {
   "cell_type": "code",
   "execution_count": null,
   "metadata": {},
   "outputs": [],
   "source": []
  },
  {
   "cell_type": "code",
   "execution_count": null,
   "metadata": {},
   "outputs": [],
   "source": []
  },
  {
   "cell_type": "code",
   "execution_count": null,
   "metadata": {},
   "outputs": [],
   "source": []
  },
  {
   "cell_type": "code",
   "execution_count": null,
   "metadata": {},
   "outputs": [],
   "source": []
  },
  {
   "cell_type": "code",
   "execution_count": null,
   "metadata": {},
   "outputs": [],
   "source": []
  },
  {
   "cell_type": "code",
   "execution_count": null,
   "metadata": {},
   "outputs": [],
   "source": []
  },
  {
   "cell_type": "code",
   "execution_count": null,
   "metadata": {},
   "outputs": [],
   "source": []
  },
  {
   "cell_type": "code",
   "execution_count": null,
   "metadata": {},
   "outputs": [],
   "source": []
  },
  {
   "cell_type": "code",
   "execution_count": null,
   "metadata": {},
   "outputs": [],
   "source": []
  },
  {
   "cell_type": "code",
   "execution_count": null,
   "metadata": {},
   "outputs": [],
   "source": []
  },
  {
   "cell_type": "code",
   "execution_count": null,
   "metadata": {},
   "outputs": [],
   "source": []
  },
  {
   "cell_type": "code",
   "execution_count": null,
   "metadata": {},
   "outputs": [],
   "source": []
  },
  {
   "cell_type": "code",
   "execution_count": null,
   "metadata": {},
   "outputs": [],
   "source": []
  },
  {
   "cell_type": "code",
   "execution_count": null,
   "metadata": {},
   "outputs": [],
   "source": []
  },
  {
   "cell_type": "code",
   "execution_count": null,
   "metadata": {},
   "outputs": [],
   "source": []
  },
  {
   "cell_type": "code",
   "execution_count": null,
   "metadata": {},
   "outputs": [],
   "source": []
  },
  {
   "cell_type": "code",
   "execution_count": null,
   "metadata": {},
   "outputs": [],
   "source": []
  },
  {
   "cell_type": "code",
   "execution_count": null,
   "metadata": {},
   "outputs": [],
   "source": []
  },
  {
   "cell_type": "code",
   "execution_count": null,
   "metadata": {},
   "outputs": [],
   "source": []
  },
  {
   "cell_type": "code",
   "execution_count": null,
   "metadata": {},
   "outputs": [],
   "source": []
  },
  {
   "cell_type": "code",
   "execution_count": null,
   "metadata": {},
   "outputs": [],
   "source": []
  },
  {
   "cell_type": "code",
   "execution_count": null,
   "metadata": {},
   "outputs": [],
   "source": []
  },
  {
   "cell_type": "code",
   "execution_count": null,
   "metadata": {},
   "outputs": [],
   "source": []
  },
  {
   "cell_type": "code",
   "execution_count": null,
   "metadata": {},
   "outputs": [],
   "source": []
  },
  {
   "cell_type": "code",
   "execution_count": null,
   "metadata": {},
   "outputs": [],
   "source": []
  },
  {
   "cell_type": "code",
   "execution_count": null,
   "metadata": {},
   "outputs": [],
   "source": []
  },
  {
   "cell_type": "code",
   "execution_count": null,
   "metadata": {},
   "outputs": [],
   "source": []
  },
  {
   "cell_type": "code",
   "execution_count": null,
   "metadata": {},
   "outputs": [],
   "source": []
  },
  {
   "cell_type": "code",
   "execution_count": null,
   "metadata": {},
   "outputs": [],
   "source": []
  },
  {
   "cell_type": "code",
   "execution_count": null,
   "metadata": {},
   "outputs": [],
   "source": []
  },
  {
   "cell_type": "code",
   "execution_count": null,
   "metadata": {},
   "outputs": [],
   "source": []
  },
  {
   "cell_type": "code",
   "execution_count": null,
   "metadata": {},
   "outputs": [],
   "source": []
  },
  {
   "cell_type": "code",
   "execution_count": null,
   "metadata": {},
   "outputs": [],
   "source": []
  },
  {
   "cell_type": "code",
   "execution_count": null,
   "metadata": {},
   "outputs": [],
   "source": []
  },
  {
   "cell_type": "code",
   "execution_count": null,
   "metadata": {},
   "outputs": [],
   "source": []
  },
  {
   "cell_type": "code",
   "execution_count": null,
   "metadata": {},
   "outputs": [],
   "source": []
  },
  {
   "cell_type": "code",
   "execution_count": null,
   "metadata": {},
   "outputs": [],
   "source": []
  }
 ],
 "metadata": {
  "kernelspec": {
   "display_name": "Python 3",
   "language": "python",
   "name": "python3"
  },
  "language_info": {
   "codemirror_mode": {
    "name": "ipython",
    "version": 3
   },
   "file_extension": ".py",
   "mimetype": "text/x-python",
   "name": "python",
   "nbconvert_exporter": "python",
   "pygments_lexer": "ipython3",
   "version": "3.8.3"
  }
 },
 "nbformat": 4,
 "nbformat_minor": 4
}
